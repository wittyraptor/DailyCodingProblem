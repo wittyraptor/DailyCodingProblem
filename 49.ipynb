{
 "cells": [
  {
   "cell_type": "markdown",
   "metadata": {},
   "source": [
    "Given an array of numbers, find the maximum sum of any contiguous subarray of the array.\n",
    "\n",
    "For example, given the array [34, -50, 42, 14, -5, 86], the maximum sum would be 137, since we would take elements 42, 14, -5, and 86."
   ]
  },
  {
   "cell_type": "code",
   "execution_count": 7,
   "metadata": {},
   "outputs": [
    {
     "name": "stdout",
     "output_type": "stream",
     "text": [
      "137\n",
      "0\n"
     ]
    }
   ],
   "source": [
    "def max_sum(l:list):\n",
    "    sum_l=[]\n",
    "    for i in range(len(l)+1):\n",
    "        for j in range(i+1,len(l)+1):\n",
    "            s=sum(l[i:j])\n",
    "            if s>0:\n",
    "                sum_l.append(s)\n",
    "            else:\n",
    "                sum_l.append(0)\n",
    "    return max(sum_l)\n",
    "\n",
    "print(max_sum([34, -50, 42, 14, -5, 86]))\n",
    "print(max_sum([-5, -1, -8, -9]))"
   ]
  },
  {
   "cell_type": "code",
   "execution_count": 13,
   "metadata": {},
   "outputs": [
    {
     "name": "stdout",
     "output_type": "stream",
     "text": [
      "137\n",
      "0\n"
     ]
    }
   ],
   "source": [
    "def max_sum2(l:list): \n",
    "    max_sum=0\n",
    "    for i in l:\n",
    "        if max_sum+i>0:\n",
    "            max_sum+=i\n",
    "        else:\n",
    "            max_sum=0\n",
    "    return max_sum\n",
    "\n",
    "print(max_sum2([34, -50, 42, 14, -5, 86]))\n",
    "print(max_sum2([-5, -1, -8, -9]))"
   ]
  },
  {
   "cell_type": "code",
   "execution_count": null,
   "metadata": {},
   "outputs": [],
   "source": []
  }
 ],
 "metadata": {
  "kernelspec": {
   "display_name": "Python 3",
   "language": "python",
   "name": "python3"
  },
  "language_info": {
   "codemirror_mode": {
    "name": "ipython",
    "version": 3
   },
   "file_extension": ".py",
   "mimetype": "text/x-python",
   "name": "python",
   "nbconvert_exporter": "python",
   "pygments_lexer": "ipython3",
   "version": "3.8.5"
  }
 },
 "nbformat": 4,
 "nbformat_minor": 4
}
