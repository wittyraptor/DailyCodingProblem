{
 "cells": [
  {
   "cell_type": "code",
   "execution_count": 1,
   "metadata": {},
   "outputs": [
    {
     "name": "stdout",
     "output_type": "stream",
     "text": [
      "Given a list of integers, write a function that returns the largest sum of non-adjacent numbers. Numbers can be 0 or negative.\n",
      "\n",
      "For example, [2, 4, 6, 2, 5] should return 13, since we pick 2, 6, and 5. [5, 1, 1, 5] should return 10, since we pick 5 and 5.\n"
     ]
    }
   ],
   "source": [
    "print(\"\"\"Given a list of integers, write a function that returns the largest sum of non-adjacent numbers. Numbers can be 0 or negative.\n",
    "\n",
    "For example, [2, 4, 6, 2, 5] should return 13, since we pick 2, 6, and 5. [5, 1, 1, 5] should return 10, since we pick 5 and 5.\"\"\")"
   ]
  },
  {
   "cell_type": "code",
   "execution_count": 12,
   "metadata": {},
   "outputs": [
    {
     "name": "stdout",
     "output_type": "stream",
     "text": [
      "10\n",
      "13\n"
     ]
    }
   ],
   "source": [
    "def remo_adj(s:list,m:int):\n",
    "    if s.index(m)==0:\n",
    "        del s[s.index(m):s.index(m)+2]\n",
    "    elif 0<s.index(m)<len(s)-1:\n",
    "        del s[s.index(m)-1:s.index(m)+2]\n",
    "    elif s.index(m)==len(s)-1:\n",
    "        del s[s.index(m)-1:s.index(m)+1]\n",
    "    return s\n",
    "\n",
    "def nonadj_sum(l:list):\n",
    "    if len(l)<3:\n",
    "        return max(l)\n",
    "    else:\n",
    "        count=l[0]\n",
    "        remo_adj(l,l[0])\n",
    "        while l!=[]:\n",
    "            count+=max(l)\n",
    "            remo_adj(l,max(l))\n",
    "        return count\n",
    "\n",
    "print(nonadj_sum([5,1,1,5]))\n",
    "print(nonadj_sum([2,4,6,2,5]))\n",
    "\n",
    "\n",
    "        \n",
    "\n",
    "    "
   ]
  },
  {
   "cell_type": "code",
   "execution_count": 14,
   "metadata": {},
   "outputs": [
    {
     "name": "stdout",
     "output_type": "stream",
     "text": [
      "15\n",
      "3\n"
     ]
    }
   ],
   "source": [
    "print(nonadj_sum([5,5,5,5,5,5]))\n",
    "print(nonadj_sum([1,3]))"
   ]
  },
  {
   "cell_type": "code",
   "execution_count": 16,
   "metadata": {},
   "outputs": [
    {
     "name": "stdout",
     "output_type": "stream",
     "text": [
      "[1, 2]\n"
     ]
    }
   ],
   "source": [
    "s=[1,2,8]\n",
    "print(s[:-1])"
   ]
  },
  {
   "cell_type": "code",
   "execution_count": 29,
   "metadata": {},
   "outputs": [],
   "source": [
    "def non_adj_sum(l:list):\n",
    "    if len(l)<3:\n",
    "        return max(l)\n",
    "    else:\n",
    "        s=[l[0],l[1]]\n",
    "        for i in range(2,len(l)):\n",
    "            s.append(l[i]+max(s[:-1]))\n",
    "    return max(s)"
   ]
  },
  {
   "cell_type": "code",
   "execution_count": 32,
   "metadata": {},
   "outputs": [
    {
     "name": "stdout",
     "output_type": "stream",
     "text": [
      "10\n",
      "13\n"
     ]
    }
   ],
   "source": [
    "print(non_adj_sum([5,1,1,5]))\n",
    "print(non_adj_sum([2,4,6,2,5]))"
   ]
  },
  {
   "cell_type": "code",
   "execution_count": null,
   "metadata": {},
   "outputs": [],
   "source": []
  },
  {
   "cell_type": "code",
   "execution_count": null,
   "metadata": {},
   "outputs": [],
   "source": []
  }
 ],
 "metadata": {
  "kernelspec": {
   "display_name": "Python 3",
   "language": "python",
   "name": "python3"
  },
  "language_info": {
   "codemirror_mode": {
    "name": "ipython",
    "version": 3
   },
   "file_extension": ".py",
   "mimetype": "text/x-python",
   "name": "python",
   "nbconvert_exporter": "python",
   "pygments_lexer": "ipython3",
   "version": "3.8.5"
  }
 },
 "nbformat": 4,
 "nbformat_minor": 4
}
