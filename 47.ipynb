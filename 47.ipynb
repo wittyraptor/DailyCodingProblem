{
 "cells": [
  {
   "cell_type": "markdown",
   "metadata": {},
   "source": [
    "Given a array of numbers representing the stock prices of a company in chronological order, write a function that calculates the maximum profit you could have made from buying and selling that stock once. You must buy before you can sell it.\n",
    "\n",
    "For example, given [9, 11, 8, 5, 7, 10], you should return 5, since you could buy the stock at 5 dollars and sell it at 10 dollars.\n"
   ]
  },
  {
   "cell_type": "code",
   "execution_count": 9,
   "metadata": {},
   "outputs": [
    {
     "name": "stdout",
     "output_type": "stream",
     "text": [
      "buy @ 5 and sell @ 10 ,profit is 5\n"
     ]
    }
   ],
   "source": [
    "l=[9,11,8,5,7,10]\n",
    "profit=0\n",
    "buy=0\n",
    "sell=0\n",
    "for i in range(len(l)):\n",
    "    for j in range(i,len(l)):\n",
    "        s=l[j]-l[i]\n",
    "        if s>profit:\n",
    "            profit=s\n",
    "            buy=l[i]\n",
    "            sell=l[j]\n",
    "print(\"buy @ {} and sell @ {} ,profit is {}\".format(buy,sell,profit))\n",
    "        "
   ]
  },
  {
   "cell_type": "code",
   "execution_count": 16,
   "metadata": {},
   "outputs": [
    {
     "name": "stdout",
     "output_type": "stream",
     "text": [
      "5\n"
     ]
    }
   ],
   "source": [
    "l=[9,11,8,5,7,10]\n",
    "l1=l[:]\n",
    "profit=0\n",
    "for i in l:\n",
    "    l1.remove(i)\n",
    "    for j in l1:\n",
    "        if (j-i)>profit:\n",
    "            profit=j-i\n",
    "print(profit)\n",
    "        "
   ]
  },
  {
   "cell_type": "code",
   "execution_count": null,
   "metadata": {},
   "outputs": [],
   "source": []
  },
  {
   "cell_type": "code",
   "execution_count": null,
   "metadata": {},
   "outputs": [],
   "source": []
  }
 ],
 "metadata": {
  "kernelspec": {
   "display_name": "Python 3",
   "language": "python",
   "name": "python3"
  },
  "language_info": {
   "codemirror_mode": {
    "name": "ipython",
    "version": 3
   },
   "file_extension": ".py",
   "mimetype": "text/x-python",
   "name": "python",
   "nbconvert_exporter": "python",
   "pygments_lexer": "ipython3",
   "version": "3.8.5"
  }
 },
 "nbformat": 4,
 "nbformat_minor": 4
}
