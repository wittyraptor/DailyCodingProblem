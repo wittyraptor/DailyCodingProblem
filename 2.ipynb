{
 "cells": [
  {
   "cell_type": "code",
   "execution_count": 3,
   "metadata": {},
   "outputs": [
    {
     "name": "stdout",
     "output_type": "stream",
     "text": [
      "Given an array of integers, return a new array such that each element at index i of the new array is the product of all the numbers in the original array except the one at i.\n",
      "\n",
      "For example, if our input was [1, 2, 3, 4, 5], the expected output would be [120,60,40, 30, 24]. If our input was [3, 2, 1], the expected output would be [2, 3, 6].\n"
     ]
    }
   ],
   "source": [
    "print(\"\"\"Given an array of integers, return a new array such that each element at index i of the new array is the product of all the numbers in the original array except the one at i.\n",
    "\n",
    "For example, if our input was [1, 2, 3, 4, 5], the expected output would be [120,60,40, 30, 24]. If our input was [3, 2, 1], the expected output would be [2, 3, 6].\"\"\")"
   ]
  },
  {
   "cell_type": "code",
   "execution_count": 12,
   "metadata": {},
   "outputs": [
    {
     "name": "stdout",
     "output_type": "stream",
     "text": [
      "[120, 60, 40, 30, 24]\n",
      "[2, 3, 6]\n"
     ]
    }
   ],
   "source": [
    "def prod_lst(n:[int]): #product of all elements of list\n",
    "    m=1\n",
    "    for i in n:\n",
    "        m*=i\n",
    "    return m\n",
    "\n",
    "#method1 by multiplication\n",
    "def index_prod(k:[int]):\n",
    "    output=[]\n",
    "    for j in k:\n",
    "        k1=k[:]   #cloning list\n",
    "        k1.remove(j) #removing the index element to find product of other\n",
    "        output.append(prod_lst(k1))\n",
    "    return output\n",
    "\n",
    "print(index_prod([1,2,3,4,5]))\n",
    "print(index_prod([3,2,1]))"
   ]
  },
  {
   "cell_type": "code",
   "execution_count": 16,
   "metadata": {},
   "outputs": [
    {
     "name": "stdout",
     "output_type": "stream",
     "text": [
      "[120, 60, 40, 30, 24]\n",
      "[2, 3, 6]\n"
     ]
    }
   ],
   "source": [
    "#method2 by division\n",
    "def index_prod1(k:[int]):\n",
    "    output=[]\n",
    "    for j in k:\n",
    "        output.append(int(prod_lst(k)/j))\n",
    "    return output\n",
    "\n",
    "print(index_prod1([1,2,3,4,5]))\n",
    "print(index_prod1([3,2,1]))\n",
    "        "
   ]
  },
  {
   "cell_type": "code",
   "execution_count": 18,
   "metadata": {},
   "outputs": [
    {
     "name": "stdout",
     "output_type": "stream",
     "text": [
      "120\n"
     ]
    }
   ],
   "source": [
    "#while loop for list product\n",
    "def prod_lst1(k:[int]):\n",
    "    count=0\n",
    "    prod_val=1\n",
    "    while count<len(k):\n",
    "        prod_val*=k[count]  #list element extract and multiply to prod_val\n",
    "        count+=1\n",
    "    return prod_val\n",
    "\n",
    "print(prod_lst1([1,2,3,4,5]))\n",
    "        "
   ]
  },
  {
   "cell_type": "code",
   "execution_count": null,
   "metadata": {},
   "outputs": [],
   "source": []
  }
 ],
 "metadata": {
  "kernelspec": {
   "display_name": "Python 3",
   "language": "python",
   "name": "python3"
  },
  "language_info": {
   "codemirror_mode": {
    "name": "ipython",
    "version": 3
   },
   "file_extension": ".py",
   "mimetype": "text/x-python",
   "name": "python",
   "nbconvert_exporter": "python",
   "pygments_lexer": "ipython3",
   "version": "3.8.5"
  }
 },
 "nbformat": 4,
 "nbformat_minor": 4
}
