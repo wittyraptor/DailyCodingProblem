{
 "cells": [
  {
   "cell_type": "code",
   "execution_count": 1,
   "metadata": {},
   "outputs": [
    {
     "name": "stdout",
     "output_type": "stream",
     "text": [
      "Given an array of integers, find the first missing positive integer in linear time and constant space. In other words, find the lowest positive integer that does not exist in the array. The array can contain duplicates and negative numbers as well.\n",
      "\n",
      "For example, the input [3, 4, -1, 1] should give 2. The input [1, 2, 0] should give 3.\n"
     ]
    }
   ],
   "source": [
    "print(\"\"\"Given an array of integers, find the first missing positive integer in linear time and constant space. In other words, find the lowest positive integer that does not exist in the array. The array can contain duplicates and negative numbers as well.\n",
    "\n",
    "For example, the input [3, 4, -1, 1] should give 2. The input [1, 2, 0] should give 3.\"\"\")"
   ]
  },
  {
   "cell_type": "code",
   "execution_count": 18,
   "metadata": {},
   "outputs": [
    {
     "name": "stdout",
     "output_type": "stream",
     "text": [
      "2\n",
      "3\n"
     ]
    }
   ],
   "source": [
    "def missing_positive(k:[int]):\n",
    "    k.sort()                   # in increasing value of elements\n",
    "    for j in k:\n",
    "        if (j>=0) and (j+1 not in k): \n",
    "             return j+1        # first output and terminate\n",
    "\n",
    "print(missing_positive([3,4,1,-1]))\n",
    "print(missing_positive([1,2,0]))"
   ]
  },
  {
   "cell_type": "code",
   "execution_count": 21,
   "metadata": {},
   "outputs": [
    {
     "name": "stdout",
     "output_type": "stream",
     "text": [
      "2\n",
      "3\n"
     ]
    }
   ],
   "source": [
    "#method2\n",
    "def missing_positive1(k:[int]):\n",
    "    for i in range(1,max(k)+2): \n",
    "        if (i not in k):\n",
    "            return i\n",
    "        \n",
    "print(missing_positive1([3,4,1,-1]))\n",
    "print(missing_positive1([1,2,0]))"
   ]
  },
  {
   "cell_type": "code",
   "execution_count": null,
   "metadata": {},
   "outputs": [],
   "source": []
  }
 ],
 "metadata": {
  "kernelspec": {
   "display_name": "Python 3",
   "language": "python",
   "name": "python3"
  },
  "language_info": {
   "codemirror_mode": {
    "name": "ipython",
    "version": 3
   },
   "file_extension": ".py",
   "mimetype": "text/x-python",
   "name": "python",
   "nbconvert_exporter": "python",
   "pygments_lexer": "ipython3",
   "version": "3.8.5"
  }
 },
 "nbformat": 4,
 "nbformat_minor": 4
}
