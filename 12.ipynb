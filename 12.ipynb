{
 "cells": [
  {
   "cell_type": "code",
   "execution_count": 1,
   "metadata": {},
   "outputs": [
    {
     "name": "stdout",
     "output_type": "stream",
     "text": [
      "There exists a staircase with N steps, and you can climb up either 1 or 2 steps at a time. Given N, write a function that returns the number of unique ways you can climb the staircase. The order of the steps matters.\n"
     ]
    }
   ],
   "source": [
    "print(\"\"\"There exists a staircase with N steps, and you can climb up either 1 or 2 steps at a time. Given N, write a function that returns the number of unique ways you can climb the staircase. The order of the steps matters.\"\"\")"
   ]
  },
  {
   "cell_type": "code",
   "execution_count": 2,
   "metadata": {},
   "outputs": [
    {
     "name": "stdout",
     "output_type": "stream",
     "text": [
      "5\n"
     ]
    }
   ],
   "source": [
    "def staircase(n):\n",
    "    if n==1:\n",
    "        return 1\n",
    "    if n==2:\n",
    "        return 2\n",
    "    else:\n",
    "        return staircase(n-1)+staircase(n-2)\n",
    "    \n",
    "print(staircase(4))"
   ]
  },
  {
   "cell_type": "code",
   "execution_count": 19,
   "metadata": {},
   "outputs": [
    {
     "name": "stdout",
     "output_type": "stream",
     "text": [
      "(1, 2)\n",
      "(1, 3)\n",
      "(1, 4)\n",
      "(2, 3)\n",
      "(2, 4)\n",
      "(3, 4)\n",
      "(1, 2, 3)\n",
      "(1, 2, 4)\n",
      "(1, 3, 4)\n",
      "(2, 3, 4)\n",
      "10\n"
     ]
    }
   ],
   "source": [
    "from itertools import combinations  #just trying out for any no of steps.\n",
    "n=5\n",
    "count=0\n",
    "for k in [1,2,3,4]:\n",
    "    if n%i==0:\n",
    "        count+=1\n",
    "for i in range(2,4):\n",
    "    p=combinations([1,2,3,4],i)\n",
    "    for j in p:\n",
    "        print(j)\n",
    "        if n-sum(j)>0 and n-sum(j) in [1,2,3,4]:\n",
    "            count+=len(j)+1\n",
    "        elif n-sum(j)==0:\n",
    "            count+=len(j)\n",
    "print(count)\n",
    "            "
   ]
  },
  {
   "cell_type": "code",
   "execution_count": 15,
   "metadata": {},
   "outputs": [],
   "source": [
    "def strcse(n,l:list):\n",
    "    count=0\n",
    "    for k in l:\n",
    "        if n%i==0:   \n",
    "            count+=1      #counting equal steps taken\n",
    "    for g in range(2,len(l)):\n",
    "        p=combinations(l,g)\n",
    "        for j in p:\n",
    "            if n-sum(j)>0 and n-sum(j) in l:\n",
    "                count+=len(j)+1\n",
    "            if n-sum(j)==0:\n",
    "                count+=len(j)\n",
    "    return count\n",
    "            "
   ]
  },
  {
   "cell_type": "code",
   "execution_count": 17,
   "metadata": {},
   "outputs": [
    {
     "name": "stdout",
     "output_type": "stream",
     "text": [
      "8\n",
      "10\n"
     ]
    }
   ],
   "source": [
    "print(strcse(5,[1,2,3]))\n",
    "print(strcse(5,[1,2,3,4]))"
   ]
  },
  {
   "cell_type": "code",
   "execution_count": null,
   "metadata": {},
   "outputs": [],
   "source": []
  }
 ],
 "metadata": {
  "kernelspec": {
   "display_name": "Python 3",
   "language": "python",
   "name": "python3"
  },
  "language_info": {
   "codemirror_mode": {
    "name": "ipython",
    "version": 3
   },
   "file_extension": ".py",
   "mimetype": "text/x-python",
   "name": "python",
   "nbconvert_exporter": "python",
   "pygments_lexer": "ipython3",
   "version": "3.8.5"
  }
 },
 "nbformat": 4,
 "nbformat_minor": 4
}
