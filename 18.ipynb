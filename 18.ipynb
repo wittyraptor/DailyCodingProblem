{
 "cells": [
  {
   "cell_type": "code",
   "execution_count": 1,
   "metadata": {},
   "outputs": [
    {
     "name": "stdout",
     "output_type": "stream",
     "text": [
      "Given an array of integers and a number k, where 1 <= k <= length of the array, compute the maximum values of each subarray of length k.\n",
      "\n",
      "For example, given array = [10, 5, 2, 7, 8, 7] and k = 3, we should get: [10, 7, 8, 8], since:\n"
     ]
    }
   ],
   "source": [
    "print(\"\"\"Given an array of integers and a number k, where 1 <= k <= length of the array, compute the maximum values of each subarray of length k.\n",
    "\n",
    "For example, given array = [10, 5, 2, 7, 8, 7] and k = 3, we should get: [10, 7, 8, 8], since:\"\"\")"
   ]
  },
  {
   "cell_type": "code",
   "execution_count": 2,
   "metadata": {},
   "outputs": [],
   "source": [
    "def max_array(l:list,k:int):   #using for loop\n",
    "    if k<0 or k>len(l):\n",
    "        return \"not vaild k\"\n",
    "    else:\n",
    "        max_list=[]\n",
    "        for i in range(len(l)-(k-1)):\n",
    "            max_list.append(max(l[i:i+k]))\n",
    "        return max_list"
   ]
  },
  {
   "cell_type": "code",
   "execution_count": 3,
   "metadata": {},
   "outputs": [
    {
     "name": "stdout",
     "output_type": "stream",
     "text": [
      "[10, 7, 8, 8]\n"
     ]
    }
   ],
   "source": [
    "print(max_array([10,5,2,7,8,7],3))"
   ]
  },
  {
   "cell_type": "code",
   "execution_count": 4,
   "metadata": {},
   "outputs": [],
   "source": [
    "def max_array1(l:list,k:int):  #using while loop\n",
    "    i=0\n",
    "    max_list1=[]\n",
    "    while i<=len(l)-k:\n",
    "        max_list1.append(max(l[i:i+k]))\n",
    "        i+=1\n",
    "    return max_list1\n",
    "\n"
   ]
  },
  {
   "cell_type": "code",
   "execution_count": 5,
   "metadata": {},
   "outputs": [
    {
     "name": "stdout",
     "output_type": "stream",
     "text": [
      "[10, 7, 8, 8]\n"
     ]
    }
   ],
   "source": [
    "print(max_array1([10,5,2,7,8,7],3))"
   ]
  },
  {
   "cell_type": "code",
   "execution_count": null,
   "metadata": {},
   "outputs": [],
   "source": []
  }
 ],
 "metadata": {
  "kernelspec": {
   "display_name": "Python 3",
   "language": "python",
   "name": "python3"
  },
  "language_info": {
   "codemirror_mode": {
    "name": "ipython",
    "version": 3
   },
   "file_extension": ".py",
   "mimetype": "text/x-python",
   "name": "python",
   "nbconvert_exporter": "python",
   "pygments_lexer": "ipython3",
   "version": "3.8.5"
  }
 },
 "nbformat": 4,
 "nbformat_minor": 4
}
