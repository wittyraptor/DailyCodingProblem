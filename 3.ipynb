{
 "cells": [
  {
   "cell_type": "code",
   "execution_count": null,
   "metadata": {},
   "outputs": [],
   "source": [
    "def max_proft(lst,k):\n",
    "    lst1=lst[:]\n",
    "    lst2=[]\n",
    "    max_profit=0\n",
    "    for i in lst:\n",
    "        lst1.remove(i)\n",
    "        for j in lst1:\n",
    "            if (i!=j) and  (i<j):\n",
    "                lst2.append(j-i)\n",
    "    for x in range(k):\n",
    "        m=max(lst2)\n",
    "        max_profit+=m\n",
    "        lst2.remove(m)\n",
    "    return max_profit\n",
    "\n",
    "\n",
    "lst=[3,4,5,6,7]\n",
    "k=2\n",
    "print(max_proft(lst,k))\n",
    "        \n",
    "                "
   ]
  }
 ],
 "metadata": {
  "kernelspec": {
   "display_name": "Python 3",
   "language": "python",
   "name": "python3"
  },
  "language_info": {
   "codemirror_mode": {
    "name": "ipython",
    "version": 3
   },
   "file_extension": ".py",
   "mimetype": "text/x-python",
   "name": "python",
   "nbconvert_exporter": "python",
   "pygments_lexer": "ipython3",
   "version": "3.8.5"
  }
 },
 "nbformat": 4,
 "nbformat_minor": 4
}
