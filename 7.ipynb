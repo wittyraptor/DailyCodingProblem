{
 "cells": [
  {
   "cell_type": "code",
   "execution_count": 1,
   "metadata": {},
   "outputs": [
    {
     "name": "stdout",
     "output_type": "stream",
     "text": [
      "Given the mapping a = 1, b = 2, ... z = 26, and an encoded message, count the number of ways it can be decoded.\n",
      "\n",
      "For example, the message '111' would give 3, since it could be decoded as 'aaa', 'ka', and 'ak'.\n"
     ]
    }
   ],
   "source": [
    "print(\"\"\"Given the mapping a = 1, b = 2, ... z = 26, and an encoded message, count the number of ways it can be decoded.\n",
    "\n",
    "For example, the message '111' would give 3, since it could be decoded as 'aaa', 'ka', and 'ak'.\"\"\")"
   ]
  },
  {
   "cell_type": "code",
   "execution_count": 37,
   "metadata": {},
   "outputs": [
    {
     "name": "stdout",
     "output_type": "stream",
     "text": [
      "[['1', '11'], ['11', '1']]\n",
      "aaaak\n",
      "ka\n"
     ]
    }
   ],
   "source": [
    "d={1:'a',2:'b',11:'k'}\n",
    "s='111'\n",
    "l=[]\n",
    "j=[]\n",
    "for i in range(1,len(s)):\n",
    "    a=[s[0:i],s[i:len(s)]]\n",
    "    l.append(a)\n",
    "print(l)\n",
    "for k in s:\n",
    "    print(d[int(k)],end=\"\")\n",
    "for j in range(len(l)):\n",
    "    a=l[j][0]\n",
    "    b=l[j][1]\n",
    "    print(d[int(a)]+d[int(b)])"
   ]
  },
  {
   "cell_type": "code",
   "execution_count": 13,
   "metadata": {},
   "outputs": [],
   "source": [
    "def str_decode(s:str,n:int):\n",
    "    if  n==0 or n==1:\n",
    "        return 1\n",
    "    else:\n",
    "        count=0\n",
    "        if (s[n-1]>'0'):\n",
    "            count=str_decode(s,n-1)\n",
    "    \n",
    "        if (s[n-2]=='1' or (s[n-2]=='2' and s[n-1]<'7')):\n",
    "            count+=str_decode(s,n-2)\n",
    "        return count\n"
   ]
  },
  {
   "cell_type": "code",
   "execution_count": 14,
   "metadata": {},
   "outputs": [
    {
     "name": "stdout",
     "output_type": "stream",
     "text": [
      "3\n"
     ]
    }
   ],
   "source": [
    "print(str_decode('111',3))"
   ]
  },
  {
   "cell_type": "code",
   "execution_count": null,
   "metadata": {},
   "outputs": [],
   "source": []
  }
 ],
 "metadata": {
  "kernelspec": {
   "display_name": "Python 3",
   "language": "python",
   "name": "python3"
  },
  "language_info": {
   "codemirror_mode": {
    "name": "ipython",
    "version": 3
   },
   "file_extension": ".py",
   "mimetype": "text/x-python",
   "name": "python",
   "nbconvert_exporter": "python",
   "pygments_lexer": "ipython3",
   "version": "3.8.5"
  }
 },
 "nbformat": 4,
 "nbformat_minor": 4
}
