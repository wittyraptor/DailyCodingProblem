{
 "cells": [
  {
   "cell_type": "markdown",
   "metadata": {},
   "source": [
    "Given a list of integers S and a target number k, write a function that returns a subset of S that adds up to k. If such a subset cannot be made, then return null.\n",
    "\n",
    "Integers can appear more than once in the list. You may assume all numbers in the list are positive.\n",
    "\n",
    "For example, given S = [12, 1, 61, 5, 9, 2] and k = 24, return [12, 9, 2, 1] since it sums up to 24."
   ]
  },
  {
   "cell_type": "code",
   "execution_count": 6,
   "metadata": {},
   "outputs": [
    {
     "name": "stdout",
     "output_type": "stream",
     "text": [
      "[12, 1, 5, 9, 2]\n",
      "[1, 5, 9, 2]\n"
     ]
    }
   ],
   "source": [
    "s=[12, 1, 61, 5, 9, 2]\n",
    "subset1=[]\n",
    "k=24\n",
    "s1=list(filter(lambda x:x<k,s))\n",
    "print(s1)\n",
    "subset1.append(max(s1))\n",
    "k-=max(s1)\n",
    "s2=list(filter(lambda x:x<k,s1))\n",
    "print(s2)\n",
    "subset1.append(max(s2))\n",
    "k-=max(s2)\n"
   ]
  },
  {
   "cell_type": "code",
   "execution_count": 45,
   "metadata": {},
   "outputs": [
    {
     "name": "stdout",
     "output_type": "stream",
     "text": [
      "Not Possible\n"
     ]
    }
   ],
   "source": [
    "subset1=[]\n",
    "def subsetsum(s:list,k:int):\n",
    "    try:\n",
    "        if k==0:\n",
    "            return subset1\n",
    "        else:\n",
    "            s1=list(filter(lambda x:x<=k,s))\n",
    "            k-=max(s1)\n",
    "            subset1.append(max(s1))\n",
    "            s1.remove(max(s1))\n",
    "            return subsetsum(s1,k)\n",
    "    except Exception:\n",
    "            return \"Not Possible\"\n",
    "    \n",
    "print(subsetsum([12, 1, 61, 5, 9, 2],16))\n",
    "    \n",
    "    "
   ]
  },
  {
   "cell_type": "code",
   "execution_count": 34,
   "metadata": {},
   "outputs": [
    {
     "name": "stdout",
     "output_type": "stream",
     "text": [
      "[1, 2, 5, 9]\n",
      "[1, 2, 5, 9]\n"
     ]
    }
   ],
   "source": [
    "s=[12, 1, 61, 5, 9, 2]\n",
    "s.sort()\n",
    "s1=[]\n",
    "k=16\n",
    "for i in s:\n",
    "    if k>0:\n",
    "        k-=i\n",
    "        s1.append(i)\n",
    "    else:\n",
    "        print(s1)\n",
    "    \n",
    "    \n",
    "    \n",
    "    \n",
    "    "
   ]
  },
  {
   "cell_type": "code",
   "execution_count": null,
   "metadata": {},
   "outputs": [],
   "source": []
  }
 ],
 "metadata": {
  "kernelspec": {
   "display_name": "Python 3",
   "language": "python",
   "name": "python3"
  },
  "language_info": {
   "codemirror_mode": {
    "name": "ipython",
    "version": 3
   },
   "file_extension": ".py",
   "mimetype": "text/x-python",
   "name": "python",
   "nbconvert_exporter": "python",
   "pygments_lexer": "ipython3",
   "version": "3.8.5"
  }
 },
 "nbformat": 4,
 "nbformat_minor": 4
}
