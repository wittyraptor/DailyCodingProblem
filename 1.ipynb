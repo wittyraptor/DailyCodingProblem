{
 "cells": [
  {
   "cell_type": "code",
   "execution_count": 5,
   "metadata": {},
   "outputs": [
    {
     "name": "stdout",
     "output_type": "stream",
     "text": [
      "Given a list of numbers and a number k, return whether any \n",
      "two numbers from the list add up to k.\n",
      " \n",
      "For example, \n",
      "given [10, 15, 3, 7] and k of 17, return true since 10 + 7 is 17.\n"
     ]
    }
   ],
   "source": [
    "print(\"\"\"Given a list of numbers and a number k, return whether any \n",
    "two numbers from the list add up to k.\\n \\nFor example, \n",
    "given [10, 15, 3, 7] and k of 17, return true since 10 + 7 is 17.\"\"\")"
   ]
  },
  {
   "cell_type": "code",
   "execution_count": 7,
   "metadata": {},
   "outputs": [
    {
     "name": "stdout",
     "output_type": "stream",
     "text": [
      "7+10=17\n"
     ]
    }
   ],
   "source": [
    "def add_up(lst:[int],k:int): #taking input as list of intergers and k as int\n",
    "    for i in lst:\n",
    "        m=k-i\n",
    "        if m in lst:          #check m in list\n",
    "            return \"{}+{}={}\".format(i,m,k)    #for i=7 cdn true ,loop terminate.\n",
    "        \n",
    "print(add_up([3,15,7,10],17))"
   ]
  },
  {
   "cell_type": "code",
   "execution_count": 9,
   "metadata": {},
   "outputs": [
    {
     "name": "stdout",
     "output_type": "stream",
     "text": [
      "7+10=17\n"
     ]
    }
   ],
   "source": [
    "def add_up_2(lst:[int],k:int):\n",
    "    for i in range(len(lst)):\n",
    "        for j in range(len(lst)):\n",
    "            if (i!=j) and (lst[i]+lst[j]==k):\n",
    "                return \"{}+{}={}\".format(lst[i],lst[j],k)\n",
    "    \n",
    "\n",
    "print(add_up_2([3,15,7,10],17))\n",
    "                "
   ]
  },
  {
   "cell_type": "code",
   "execution_count": 11,
   "metadata": {},
   "outputs": [
    {
     "name": "stdout",
     "output_type": "stream",
     "text": [
      "0+5=5\n",
      "0+5=5\n"
     ]
    }
   ],
   "source": [
    "print(add_up([0,1,2,3,4,5],5))\n",
    "print(add_up_2([0,1,2,3,4,5],5))"
   ]
  },
  {
   "cell_type": "code",
   "execution_count": 12,
   "metadata": {},
   "outputs": [
    {
     "name": "stdout",
     "output_type": "stream",
     "text": [
      "0+5=5\n",
      "1+4=5\n",
      "2+3=5\n",
      "3+2=5\n",
      "4+1=5\n",
      "5+0=5\n"
     ]
    }
   ],
   "source": [
    "def add_up_3(lst:[int],k:int):\n",
    "    for i in range(len(lst)):\n",
    "        for j in range(len(lst)):\n",
    "            if (i!=j) and (lst[i]+lst[j]==k):\n",
    "                print(\"{}+{}={}\".format(lst[i],lst[j],k))\n",
    "                \n",
    "                \n",
    "add_up_3([0,1,2,3,4,5],5)"
   ]
  },
  {
   "cell_type": "code",
   "execution_count": 14,
   "metadata": {},
   "outputs": [
    {
     "name": "stdout",
     "output_type": "stream",
     "text": [
      "0+5=5\n",
      "1+4=5\n",
      "2+3=5\n",
      "3+2=5\n",
      "4+1=5\n",
      "5+0=5\n"
     ]
    }
   ],
   "source": [
    "def add_up_4(lst:[int],k:int): #taking input as list of intergers and k as int\n",
    "    for i in lst:\n",
    "        m=k-i\n",
    "        if m in lst:          #check m in list\n",
    "            print(\"{}+{}={}\".format(i,m,k))   #for i=7 cdn true ,loop terminate.\n",
    "        \n",
    "add_up_4([0,1,2,3,4,5],5)"
   ]
  },
  {
   "cell_type": "code",
   "execution_count": null,
   "metadata": {},
   "outputs": [],
   "source": []
  }
 ],
 "metadata": {
  "kernelspec": {
   "display_name": "Python 3",
   "language": "python",
   "name": "python3"
  },
  "language_info": {
   "codemirror_mode": {
    "name": "ipython",
    "version": 3
   },
   "file_extension": ".py",
   "mimetype": "text/x-python",
   "name": "python",
   "nbconvert_exporter": "python",
   "pygments_lexer": "ipython3",
   "version": "3.8.5"
  }
 },
 "nbformat": 4,
 "nbformat_minor": 4
}
